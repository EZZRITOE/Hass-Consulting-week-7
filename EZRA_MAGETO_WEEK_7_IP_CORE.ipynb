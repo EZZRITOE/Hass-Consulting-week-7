{
  "nbformat": 4,
  "nbformat_minor": 0,
  "metadata": {
    "colab": {
      "name": "EZRA_MAGETO_WEEK 7 IP_CORE",
      "provenance": [],
      "authorship_tag": "ABX9TyOxc0MeZayjNDc8oXMvuryh",
      "include_colab_link": true
    },
    "kernelspec": {
      "name": "python3",
      "display_name": "Python 3"
    },
    "language_info": {
      "name": "python"
    }
  },
  "cells": [
    {
      "cell_type": "markdown",
      "metadata": {
        "id": "view-in-github",
        "colab_type": "text"
      },
      "source": [
        "<a href=\"https://colab.research.google.com/github/EZZRITOE/Hass-Consulting-week-7/blob/main/EZRA_MAGETO_WEEK_7_IP_CORE.ipynb\" target=\"_parent\"><img src=\"https://colab.research.google.com/assets/colab-badge.svg\" alt=\"Open In Colab\"/></a>"
      ]
    },
    {
      "cell_type": "markdown",
      "metadata": {
        "id": "PU3GxhVgRKDQ"
      },
      "source": [
        "#DEFINING THE QUESTION\n",
        "As a Data Scientist, you work for Hass Consulting Company which is a real estate leader with over 25 years of experience. You have been tasked to study the factors that affect housing prices using the given information on real estate properties that was collected over the past few months.\n",
        "\n",
        "Later onwards, create a model that would allow the company to accurately predict the sale of prices upon being provided with the predictor variables."
      ]
    },
    {
      "cell_type": "markdown",
      "metadata": {
        "id": "ncs1VahoRdmO"
      },
      "source": [
        "#THE METRIC FOR SUCCESS\n",
        "Create a model that would allow the company to accurately predict the sale of prices upon being provided with the predictor variables. "
      ]
    },
    {
      "cell_type": "markdown",
      "metadata": {
        "id": "4OzLFSC4S9WV"
      },
      "source": [
        "#EXPERIMENTAL DESIGN\n",
        "-Explore given dataset\n",
        "-Define the appropriateness of the available data to answer the given question.\n",
        "-Find and deal with outliers, anomalies, and missing data within the dataset.\n",
        "-Perform univariate, bivariate and multivariate analysis recording your observations.\n",
        "-Performing regression analysis.\n",
        "-Incorporate categorical independent variables into your models.\n",
        "-Check for multicollinearity\n",
        "-Provide a recommendation based on your analysis.\n",
        "-Create residual plots for your models, and assess heteroskedasticity using Barlett's test.\n",
        "-Challenge your solution by providing insights on how you can make improvements in model improvement"
      ]
    },
    {
      "cell_type": "markdown",
      "metadata": {
        "id": "dbIXFJBfTS58"
      },
      "source": [
        "#1.READING THE DATASET"
      ]
    },
    {
      "cell_type": "markdown",
      "metadata": {
        "id": "8kka8FT_TbhE"
      },
      "source": [
        "## Importing Libraries"
      ]
    },
    {
      "cell_type": "code",
      "metadata": {
        "id": "G4iUyN_yQ01j",
        "colab": {
          "base_uri": "https://localhost:8080/"
        },
        "outputId": "b1a3eedf-5a72-4e0d-ccb1-1fe8157e7140"
      },
      "source": [
        "#import the neccessary libraries \n",
        "import numpy as np\n",
        "import pandas as pd\n",
        "import seaborn as sb\n",
        "import matplotlib.pyplot as plt\n",
        "import seaborn as sns\n",
        "\n",
        "from sklearn.model_selection import train_test_split\n",
        "from sklearn.linear_model import LinearRegression\n",
        "from sklearn import metrics\n",
        "import scipy as sp\n",
        "\n",
        "import statsmodels.formula.api as smf\n",
        "from sklearn.model_selection import GridSearchCV\n",
        "from sklearn.linear_model import Ridge\n",
        "from sklearn.metrics import mean_squared_error\n",
        "\n",
        "from sklearn.linear_model import Lasso\n",
        "from sklearn.datasets import load_boston\n",
        "from sklearn.preprocessing import StandardScaler\n",
        "from sklearn import linear_model\n",
        "from sklearn.preprocessing import StandardScaler, LabelEncoder\n",
        "import warnings\n",
        "warnings.filterwarnings(\"ignore\")"
      ],
      "execution_count": 2,
      "outputs": [
        {
          "output_type": "stream",
          "text": [
            "/usr/local/lib/python3.7/dist-packages/statsmodels/tools/_testing.py:19: FutureWarning: pandas.util.testing is deprecated. Use the functions in the public API at pandas.testing instead.\n",
            "  import pandas.util.testing as tm\n"
          ],
          "name": "stderr"
        }
      ]
    },
    {
      "cell_type": "code",
      "metadata": {
        "id": "_qk3faKBU2Da"
      },
      "source": [
        "#loading the dataset\n",
        "hass=pd.read_csv('Hass_consulting_data.csv')\n"
      ],
      "execution_count": 3,
      "outputs": []
    },
    {
      "cell_type": "markdown",
      "metadata": {
        "id": "EyZcLtFWXr9P"
      },
      "source": [
        "## Exploring the Data"
      ]
    },
    {
      "cell_type": "code",
      "metadata": {
        "colab": {
          "base_uri": "https://localhost:8080/",
          "height": 224
        },
        "id": "mRI4eoSqX2BS",
        "outputId": "84424549-e286-433a-b313-567a4915b471"
      },
      "source": [
        "#checking the top of the data\n",
        "hass.head()"
      ],
      "execution_count": 4,
      "outputs": [
        {
          "output_type": "execute_result",
          "data": {
            "text/html": [
              "<div>\n",
              "<style scoped>\n",
              "    .dataframe tbody tr th:only-of-type {\n",
              "        vertical-align: middle;\n",
              "    }\n",
              "\n",
              "    .dataframe tbody tr th {\n",
              "        vertical-align: top;\n",
              "    }\n",
              "\n",
              "    .dataframe thead th {\n",
              "        text-align: right;\n",
              "    }\n",
              "</style>\n",
              "<table border=\"1\" class=\"dataframe\">\n",
              "  <thead>\n",
              "    <tr style=\"text-align: right;\">\n",
              "      <th></th>\n",
              "      <th>id</th>\n",
              "      <th>price</th>\n",
              "      <th>bedrooms</th>\n",
              "      <th>bathrooms</th>\n",
              "      <th>sqft_living</th>\n",
              "      <th>sqft_lot</th>\n",
              "      <th>floors</th>\n",
              "      <th>waterfront</th>\n",
              "      <th>view</th>\n",
              "      <th>condition</th>\n",
              "      <th>grade</th>\n",
              "      <th>sqft_above</th>\n",
              "      <th>sqft_basement</th>\n",
              "      <th>yr_built</th>\n",
              "      <th>yr_renovated</th>\n",
              "      <th>zipcode</th>\n",
              "      <th>lat</th>\n",
              "      <th>long</th>\n",
              "      <th>sqft_living15</th>\n",
              "      <th>sqft_lot15</th>\n",
              "    </tr>\n",
              "  </thead>\n",
              "  <tbody>\n",
              "    <tr>\n",
              "      <th>0</th>\n",
              "      <td>7129300520</td>\n",
              "      <td>221900.0</td>\n",
              "      <td>3</td>\n",
              "      <td>1.00</td>\n",
              "      <td>1180</td>\n",
              "      <td>5650</td>\n",
              "      <td>1.0</td>\n",
              "      <td>0</td>\n",
              "      <td>0</td>\n",
              "      <td>3</td>\n",
              "      <td>7</td>\n",
              "      <td>1180</td>\n",
              "      <td>0</td>\n",
              "      <td>1955</td>\n",
              "      <td>0</td>\n",
              "      <td>98178</td>\n",
              "      <td>47.5112</td>\n",
              "      <td>-122.257</td>\n",
              "      <td>1340</td>\n",
              "      <td>5650</td>\n",
              "    </tr>\n",
              "    <tr>\n",
              "      <th>1</th>\n",
              "      <td>6414100192</td>\n",
              "      <td>538000.0</td>\n",
              "      <td>3</td>\n",
              "      <td>2.25</td>\n",
              "      <td>2570</td>\n",
              "      <td>7242</td>\n",
              "      <td>2.0</td>\n",
              "      <td>0</td>\n",
              "      <td>0</td>\n",
              "      <td>3</td>\n",
              "      <td>7</td>\n",
              "      <td>2170</td>\n",
              "      <td>400</td>\n",
              "      <td>1951</td>\n",
              "      <td>1991</td>\n",
              "      <td>98125</td>\n",
              "      <td>47.7210</td>\n",
              "      <td>-122.319</td>\n",
              "      <td>1690</td>\n",
              "      <td>7639</td>\n",
              "    </tr>\n",
              "    <tr>\n",
              "      <th>2</th>\n",
              "      <td>5631500400</td>\n",
              "      <td>180000.0</td>\n",
              "      <td>2</td>\n",
              "      <td>1.00</td>\n",
              "      <td>770</td>\n",
              "      <td>10000</td>\n",
              "      <td>1.0</td>\n",
              "      <td>0</td>\n",
              "      <td>0</td>\n",
              "      <td>3</td>\n",
              "      <td>6</td>\n",
              "      <td>770</td>\n",
              "      <td>0</td>\n",
              "      <td>1933</td>\n",
              "      <td>0</td>\n",
              "      <td>98028</td>\n",
              "      <td>47.7379</td>\n",
              "      <td>-122.233</td>\n",
              "      <td>2720</td>\n",
              "      <td>8062</td>\n",
              "    </tr>\n",
              "    <tr>\n",
              "      <th>3</th>\n",
              "      <td>2487200875</td>\n",
              "      <td>604000.0</td>\n",
              "      <td>4</td>\n",
              "      <td>3.00</td>\n",
              "      <td>1960</td>\n",
              "      <td>5000</td>\n",
              "      <td>1.0</td>\n",
              "      <td>0</td>\n",
              "      <td>0</td>\n",
              "      <td>5</td>\n",
              "      <td>7</td>\n",
              "      <td>1050</td>\n",
              "      <td>910</td>\n",
              "      <td>1965</td>\n",
              "      <td>0</td>\n",
              "      <td>98136</td>\n",
              "      <td>47.5208</td>\n",
              "      <td>-122.393</td>\n",
              "      <td>1360</td>\n",
              "      <td>5000</td>\n",
              "    </tr>\n",
              "    <tr>\n",
              "      <th>4</th>\n",
              "      <td>1954400510</td>\n",
              "      <td>510000.0</td>\n",
              "      <td>3</td>\n",
              "      <td>2.00</td>\n",
              "      <td>1680</td>\n",
              "      <td>8080</td>\n",
              "      <td>1.0</td>\n",
              "      <td>0</td>\n",
              "      <td>0</td>\n",
              "      <td>3</td>\n",
              "      <td>8</td>\n",
              "      <td>1680</td>\n",
              "      <td>0</td>\n",
              "      <td>1987</td>\n",
              "      <td>0</td>\n",
              "      <td>98074</td>\n",
              "      <td>47.6168</td>\n",
              "      <td>-122.045</td>\n",
              "      <td>1800</td>\n",
              "      <td>7503</td>\n",
              "    </tr>\n",
              "  </tbody>\n",
              "</table>\n",
              "</div>"
            ],
            "text/plain": [
              "           id     price  bedrooms  ...     long  sqft_living15  sqft_lot15\n",
              "0  7129300520  221900.0         3  ... -122.257           1340        5650\n",
              "1  6414100192  538000.0         3  ... -122.319           1690        7639\n",
              "2  5631500400  180000.0         2  ... -122.233           2720        8062\n",
              "3  2487200875  604000.0         4  ... -122.393           1360        5000\n",
              "4  1954400510  510000.0         3  ... -122.045           1800        7503\n",
              "\n",
              "[5 rows x 20 columns]"
            ]
          },
          "metadata": {
            "tags": []
          },
          "execution_count": 4
        }
      ]
    },
    {
      "cell_type": "code",
      "metadata": {
        "colab": {
          "base_uri": "https://localhost:8080/",
          "height": 224
        },
        "id": "PI9_HODGYFgs",
        "outputId": "7bad3406-caad-4935-db6b-fb000598ff62"
      },
      "source": [
        "#checking the bottom of the data\n",
        "hass.tail()"
      ],
      "execution_count": 5,
      "outputs": [
        {
          "output_type": "execute_result",
          "data": {
            "text/html": [
              "<div>\n",
              "<style scoped>\n",
              "    .dataframe tbody tr th:only-of-type {\n",
              "        vertical-align: middle;\n",
              "    }\n",
              "\n",
              "    .dataframe tbody tr th {\n",
              "        vertical-align: top;\n",
              "    }\n",
              "\n",
              "    .dataframe thead th {\n",
              "        text-align: right;\n",
              "    }\n",
              "</style>\n",
              "<table border=\"1\" class=\"dataframe\">\n",
              "  <thead>\n",
              "    <tr style=\"text-align: right;\">\n",
              "      <th></th>\n",
              "      <th>id</th>\n",
              "      <th>price</th>\n",
              "      <th>bedrooms</th>\n",
              "      <th>bathrooms</th>\n",
              "      <th>sqft_living</th>\n",
              "      <th>sqft_lot</th>\n",
              "      <th>floors</th>\n",
              "      <th>waterfront</th>\n",
              "      <th>view</th>\n",
              "      <th>condition</th>\n",
              "      <th>grade</th>\n",
              "      <th>sqft_above</th>\n",
              "      <th>sqft_basement</th>\n",
              "      <th>yr_built</th>\n",
              "      <th>yr_renovated</th>\n",
              "      <th>zipcode</th>\n",
              "      <th>lat</th>\n",
              "      <th>long</th>\n",
              "      <th>sqft_living15</th>\n",
              "      <th>sqft_lot15</th>\n",
              "    </tr>\n",
              "  </thead>\n",
              "  <tbody>\n",
              "    <tr>\n",
              "      <th>21608</th>\n",
              "      <td>263000018</td>\n",
              "      <td>360000.0</td>\n",
              "      <td>3</td>\n",
              "      <td>2.50</td>\n",
              "      <td>1530</td>\n",
              "      <td>1131</td>\n",
              "      <td>3.0</td>\n",
              "      <td>0</td>\n",
              "      <td>0</td>\n",
              "      <td>3</td>\n",
              "      <td>8</td>\n",
              "      <td>1530</td>\n",
              "      <td>0</td>\n",
              "      <td>2009</td>\n",
              "      <td>0</td>\n",
              "      <td>98103</td>\n",
              "      <td>47.6993</td>\n",
              "      <td>-122.346</td>\n",
              "      <td>1530</td>\n",
              "      <td>1509</td>\n",
              "    </tr>\n",
              "    <tr>\n",
              "      <th>21609</th>\n",
              "      <td>6600060120</td>\n",
              "      <td>400000.0</td>\n",
              "      <td>4</td>\n",
              "      <td>2.50</td>\n",
              "      <td>2310</td>\n",
              "      <td>5813</td>\n",
              "      <td>2.0</td>\n",
              "      <td>0</td>\n",
              "      <td>0</td>\n",
              "      <td>3</td>\n",
              "      <td>8</td>\n",
              "      <td>2310</td>\n",
              "      <td>0</td>\n",
              "      <td>2014</td>\n",
              "      <td>0</td>\n",
              "      <td>98146</td>\n",
              "      <td>47.5107</td>\n",
              "      <td>-122.362</td>\n",
              "      <td>1830</td>\n",
              "      <td>7200</td>\n",
              "    </tr>\n",
              "    <tr>\n",
              "      <th>21610</th>\n",
              "      <td>1523300141</td>\n",
              "      <td>402101.0</td>\n",
              "      <td>2</td>\n",
              "      <td>0.75</td>\n",
              "      <td>1020</td>\n",
              "      <td>1350</td>\n",
              "      <td>2.0</td>\n",
              "      <td>0</td>\n",
              "      <td>0</td>\n",
              "      <td>3</td>\n",
              "      <td>7</td>\n",
              "      <td>1020</td>\n",
              "      <td>0</td>\n",
              "      <td>2009</td>\n",
              "      <td>0</td>\n",
              "      <td>98144</td>\n",
              "      <td>47.5944</td>\n",
              "      <td>-122.299</td>\n",
              "      <td>1020</td>\n",
              "      <td>2007</td>\n",
              "    </tr>\n",
              "    <tr>\n",
              "      <th>21611</th>\n",
              "      <td>291310100</td>\n",
              "      <td>400000.0</td>\n",
              "      <td>3</td>\n",
              "      <td>2.50</td>\n",
              "      <td>1600</td>\n",
              "      <td>2388</td>\n",
              "      <td>2.0</td>\n",
              "      <td>0</td>\n",
              "      <td>0</td>\n",
              "      <td>3</td>\n",
              "      <td>8</td>\n",
              "      <td>1600</td>\n",
              "      <td>0</td>\n",
              "      <td>2004</td>\n",
              "      <td>0</td>\n",
              "      <td>98027</td>\n",
              "      <td>47.5345</td>\n",
              "      <td>-122.069</td>\n",
              "      <td>1410</td>\n",
              "      <td>1287</td>\n",
              "    </tr>\n",
              "    <tr>\n",
              "      <th>21612</th>\n",
              "      <td>1523300157</td>\n",
              "      <td>325000.0</td>\n",
              "      <td>2</td>\n",
              "      <td>0.75</td>\n",
              "      <td>1020</td>\n",
              "      <td>1076</td>\n",
              "      <td>2.0</td>\n",
              "      <td>0</td>\n",
              "      <td>0</td>\n",
              "      <td>3</td>\n",
              "      <td>7</td>\n",
              "      <td>1020</td>\n",
              "      <td>0</td>\n",
              "      <td>2008</td>\n",
              "      <td>0</td>\n",
              "      <td>98144</td>\n",
              "      <td>47.5941</td>\n",
              "      <td>-122.299</td>\n",
              "      <td>1020</td>\n",
              "      <td>1357</td>\n",
              "    </tr>\n",
              "  </tbody>\n",
              "</table>\n",
              "</div>"
            ],
            "text/plain": [
              "               id     price  bedrooms  ...     long  sqft_living15  sqft_lot15\n",
              "21608   263000018  360000.0         3  ... -122.346           1530        1509\n",
              "21609  6600060120  400000.0         4  ... -122.362           1830        7200\n",
              "21610  1523300141  402101.0         2  ... -122.299           1020        2007\n",
              "21611   291310100  400000.0         3  ... -122.069           1410        1287\n",
              "21612  1523300157  325000.0         2  ... -122.299           1020        1357\n",
              "\n",
              "[5 rows x 20 columns]"
            ]
          },
          "metadata": {
            "tags": []
          },
          "execution_count": 5
        }
      ]
    },
    {
      "cell_type": "code",
      "metadata": {
        "colab": {
          "base_uri": "https://localhost:8080/"
        },
        "id": "uTrGG82RYfA-",
        "outputId": "ece8ac60-2476-46fa-bc1d-a4301a9e64da"
      },
      "source": [
        "#checking the shape of the data\n",
        "hass.shape"
      ],
      "execution_count": 6,
      "outputs": [
        {
          "output_type": "execute_result",
          "data": {
            "text/plain": [
              "(21613, 20)"
            ]
          },
          "metadata": {
            "tags": []
          },
          "execution_count": 6
        }
      ]
    },
    {
      "cell_type": "code",
      "metadata": {
        "colab": {
          "base_uri": "https://localhost:8080/"
        },
        "id": "SsKMPkz-Yp-U",
        "outputId": "e6ae1241-c594-4108-cda1-7e4057a52748"
      },
      "source": [
        "#checking the columns\n",
        "hass.columns"
      ],
      "execution_count": 7,
      "outputs": [
        {
          "output_type": "execute_result",
          "data": {
            "text/plain": [
              "Index(['id', 'price', 'bedrooms', 'bathrooms', 'sqft_living', 'sqft_lot',\n",
              "       'floors', 'waterfront', 'view', 'condition', 'grade', 'sqft_above',\n",
              "       'sqft_basement', 'yr_built', 'yr_renovated', 'zipcode', 'lat', 'long',\n",
              "       'sqft_living15', 'sqft_lot15'],\n",
              "      dtype='object')"
            ]
          },
          "metadata": {
            "tags": []
          },
          "execution_count": 7
        }
      ]
    },
    {
      "cell_type": "code",
      "metadata": {
        "colab": {
          "base_uri": "https://localhost:8080/"
        },
        "id": "lsvvoXi3jRgr",
        "outputId": "63e5fca8-16ca-4194-e913-77697544ef54"
      },
      "source": [
        "#checking the data types\n",
        "hass.dtypes"
      ],
      "execution_count": 8,
      "outputs": [
        {
          "output_type": "execute_result",
          "data": {
            "text/plain": [
              "id                 int64\n",
              "price            float64\n",
              "bedrooms           int64\n",
              "bathrooms        float64\n",
              "sqft_living        int64\n",
              "sqft_lot           int64\n",
              "floors           float64\n",
              "waterfront         int64\n",
              "view               int64\n",
              "condition          int64\n",
              "grade              int64\n",
              "sqft_above         int64\n",
              "sqft_basement      int64\n",
              "yr_built           int64\n",
              "yr_renovated       int64\n",
              "zipcode            int64\n",
              "lat              float64\n",
              "long             float64\n",
              "sqft_living15      int64\n",
              "sqft_lot15         int64\n",
              "dtype: object"
            ]
          },
          "metadata": {
            "tags": []
          },
          "execution_count": 8
        }
      ]
    },
    {
      "cell_type": "code",
      "metadata": {
        "colab": {
          "base_uri": "https://localhost:8080/"
        },
        "id": "IfQBnAlnknLo",
        "outputId": "4895fa4e-6990-432e-a302-8d8c9e9dafa1"
      },
      "source": [
        "#checking information on different columns\n",
        "hass.info()"
      ],
      "execution_count": 9,
      "outputs": [
        {
          "output_type": "stream",
          "text": [
            "<class 'pandas.core.frame.DataFrame'>\n",
            "RangeIndex: 21613 entries, 0 to 21612\n",
            "Data columns (total 20 columns):\n",
            " #   Column         Non-Null Count  Dtype  \n",
            "---  ------         --------------  -----  \n",
            " 0   id             21613 non-null  int64  \n",
            " 1   price          21613 non-null  float64\n",
            " 2   bedrooms       21613 non-null  int64  \n",
            " 3   bathrooms      21613 non-null  float64\n",
            " 4   sqft_living    21613 non-null  int64  \n",
            " 5   sqft_lot       21613 non-null  int64  \n",
            " 6   floors         21613 non-null  float64\n",
            " 7   waterfront     21613 non-null  int64  \n",
            " 8   view           21613 non-null  int64  \n",
            " 9   condition      21613 non-null  int64  \n",
            " 10  grade          21613 non-null  int64  \n",
            " 11  sqft_above     21613 non-null  int64  \n",
            " 12  sqft_basement  21613 non-null  int64  \n",
            " 13  yr_built       21613 non-null  int64  \n",
            " 14  yr_renovated   21613 non-null  int64  \n",
            " 15  zipcode        21613 non-null  int64  \n",
            " 16  lat            21613 non-null  float64\n",
            " 17  long           21613 non-null  float64\n",
            " 18  sqft_living15  21613 non-null  int64  \n",
            " 19  sqft_lot15     21613 non-null  int64  \n",
            "dtypes: float64(5), int64(15)\n",
            "memory usage: 3.3 MB\n"
          ],
          "name": "stdout"
        }
      ]
    },
    {
      "cell_type": "markdown",
      "metadata": {
        "id": "rQaIpGFilU3D"
      },
      "source": [
        "# Cleaning the Dataset "
      ]
    },
    {
      "cell_type": "markdown",
      "metadata": {
        "id": "YzYbt94oqaKr"
      },
      "source": [
        "##Exploratory Data Analysis"
      ]
    },
    {
      "cell_type": "code",
      "metadata": {
        "colab": {
          "base_uri": "https://localhost:8080/"
        },
        "id": "LYpWp7zvlgbm",
        "outputId": "4a8e395c-cec6-4fe2-e9bc-5f95cf4fe003"
      },
      "source": [
        "#checking for missing values\n",
        "hass.isnull().sum()"
      ],
      "execution_count": 10,
      "outputs": [
        {
          "output_type": "execute_result",
          "data": {
            "text/plain": [
              "id               0\n",
              "price            0\n",
              "bedrooms         0\n",
              "bathrooms        0\n",
              "sqft_living      0\n",
              "sqft_lot         0\n",
              "floors           0\n",
              "waterfront       0\n",
              "view             0\n",
              "condition        0\n",
              "grade            0\n",
              "sqft_above       0\n",
              "sqft_basement    0\n",
              "yr_built         0\n",
              "yr_renovated     0\n",
              "zipcode          0\n",
              "lat              0\n",
              "long             0\n",
              "sqft_living15    0\n",
              "sqft_lot15       0\n",
              "dtype: int64"
            ]
          },
          "metadata": {
            "tags": []
          },
          "execution_count": 10
        }
      ]
    },
    {
      "cell_type": "code",
      "metadata": {
        "colab": {
          "base_uri": "https://localhost:8080/"
        },
        "id": "FBrhIWYQmMXu",
        "outputId": "3153c6e7-8b5c-431a-b165-cec35ff4f2ad"
      },
      "source": [
        "#checking for duplicates\n",
        "hass.duplicated( keep=False).sum()"
      ],
      "execution_count": 11,
      "outputs": [
        {
          "output_type": "execute_result",
          "data": {
            "text/plain": [
              "6"
            ]
          },
          "metadata": {
            "tags": []
          },
          "execution_count": 11
        }
      ]
    },
    {
      "cell_type": "code",
      "metadata": {
        "id": "8tNHcqY1mlhS"
      },
      "source": [
        "#dropping the duplicates\n",
        "hass.drop_duplicates(keep = False, inplace = True)\n"
      ],
      "execution_count": 12,
      "outputs": []
    },
    {
      "cell_type": "code",
      "metadata": {
        "colab": {
          "base_uri": "https://localhost:8080/"
        },
        "id": "wdN-Jq-so_ky",
        "outputId": "075d6abd-5d22-4e4c-dd7e-8930d7171ae0"
      },
      "source": [
        "#confirming the drop of duplicates\n",
        "hass.duplicated().any()"
      ],
      "execution_count": 13,
      "outputs": [
        {
          "output_type": "execute_result",
          "data": {
            "text/plain": [
              "False"
            ]
          },
          "metadata": {
            "tags": []
          },
          "execution_count": 13
        }
      ]
    },
    {
      "cell_type": "code",
      "metadata": {
        "id": "E6W9GsGPxaLx"
      },
      "source": [
        "#dropping columns we dont need\n",
        "hass.drop(columns=['id', 'lat', 'long', 'waterfront', 'view', 'yr_renovated'], axis=1, inplace=True)"
      ],
      "execution_count": 14,
      "outputs": []
    },
    {
      "cell_type": "code",
      "metadata": {
        "colab": {
          "base_uri": "https://localhost:8080/",
          "height": 1000
        },
        "id": "9Os9Eu8lvH9L",
        "outputId": "ef3ee3f0-97cd-4f54-fcf9-5b0fcfd8f671"
      },
      "source": [
        "#checking for outliers\n",
        "col = ['price','sqft_living','sqft_lot', 'sqft_lot15', 'sqft_living15', 'sqft_above', 'sqft_basement', 'sqft_lot15', 'sqft_living15']\n",
        "\n",
        "fig,ax = plt.subplots(len(col),figsize=(8,40))\n",
        "for i , col_val in enumerate(col):\n",
        "  sns.boxplot(y=hass[col_val],ax=ax[i])\n",
        "  ax[i].set_title('Box plot - {}'.format(col_val), fontsize =10)\n",
        "  ax[i].set_xlabel(col_val,fontsize=10)\n",
        "plt.show()\n"
      ],
      "execution_count": 54,
      "outputs": [
        {
          "output_type": "display_data",
          "data": {
            "image/png": "[encoded data removed]",
            "text/plain": [
              "<Figure size 576x2880 with 9 Axes>"
            ]
          },
          "metadata": {
            "tags": [],
            "needs_background": "light"
          }
        }
      ]
    },
    {
      "cell_type": "code",
      "metadata": {
        "colab": {
          "base_uri": "https://localhost:8080/"
        },
        "id": "k4WZ_wZ-PsM8",
        "outputId": "797cb8f6-9369-40a8-c402-8eef8f690a21"
      },
      "source": [
        "#Dealing with outliers\n",
        "q1=hass.quantile(0.25)\n",
        "q3=hass.quantile(0.75)\n",
        "interquartile_range=q3-q1\n",
        "\n",
        "hass[~((hass < (q1 - 1.5 * interquartile_range)) |(hass > (q3 + 1.5 * interquartile_range))).any(axis=1)]\n",
        "hass.shape"
      ],
      "execution_count": 15,
      "outputs": [
        {
          "output_type": "execute_result",
          "data": {
            "text/plain": [
              "(21607, 14)"
            ]
          },
          "metadata": {
            "tags": []
          },
          "execution_count": 15
        }
      ]
    },
    {
      "cell_type": "code",
      "metadata": {
        "colab": {
          "base_uri": "https://localhost:8080/",
          "height": 317
        },
        "id": "Gf2PtkFbRkZS",
        "outputId": "94d4f8f8-ed3e-4af5-870a-0417cd60d7fe"
      },
      "source": [
        "#descriptive statistics  of the variables\n",
        "hass.describe()\n"
      ],
      "execution_count": 16,
      "outputs": [
        {
          "output_type": "execute_result",
          "data": {
            "text/html": [
              "<div>\n",
              "<style scoped>\n",
              "    .dataframe tbody tr th:only-of-type {\n",
              "        vertical-align: middle;\n",
              "    }\n",
              "\n",
              "    .dataframe tbody tr th {\n",
              "        vertical-align: top;\n",
              "    }\n",
              "\n",
              "    .dataframe thead th {\n",
              "        text-align: right;\n",
              "    }\n",
              "</style>\n",
              "<table border=\"1\" class=\"dataframe\">\n",
              "  <thead>\n",
              "    <tr style=\"text-align: right;\">\n",
              "      <th></th>\n",
              "      <th>price</th>\n",
              "      <th>bedrooms</th>\n",
              "      <th>bathrooms</th>\n",
              "      <th>sqft_living</th>\n",
              "      <th>sqft_lot</th>\n",
              "      <th>floors</th>\n",
              "      <th>condition</th>\n",
              "      <th>grade</th>\n",
              "      <th>sqft_above</th>\n",
              "      <th>sqft_basement</th>\n",
              "      <th>yr_built</th>\n",
              "      <th>zipcode</th>\n",
              "      <th>sqft_living15</th>\n",
              "      <th>sqft_lot15</th>\n",
              "    </tr>\n",
              "  </thead>\n",
              "  <tbody>\n",
              "    <tr>\n",
              "      <th>count</th>\n",
              "      <td>2.160700e+04</td>\n",
              "      <td>21607.000000</td>\n",
              "      <td>21607.000000</td>\n",
              "      <td>21607.000000</td>\n",
              "      <td>2.160700e+04</td>\n",
              "      <td>21607.000000</td>\n",
              "      <td>21607.000000</td>\n",
              "      <td>21607.000000</td>\n",
              "      <td>21607.000000</td>\n",
              "      <td>21607.000000</td>\n",
              "      <td>21607.000000</td>\n",
              "      <td>21607.000000</td>\n",
              "      <td>21607.000000</td>\n",
              "      <td>21607.000000</td>\n",
              "    </tr>\n",
              "    <tr>\n",
              "      <th>mean</th>\n",
              "      <td>5.401757e+05</td>\n",
              "      <td>3.370852</td>\n",
              "      <td>2.114720</td>\n",
              "      <td>2079.862683</td>\n",
              "      <td>1.510961e+04</td>\n",
              "      <td>1.494169</td>\n",
              "      <td>3.409451</td>\n",
              "      <td>7.656685</td>\n",
              "      <td>1788.305086</td>\n",
              "      <td>291.557597</td>\n",
              "      <td>1971.002083</td>\n",
              "      <td>98077.951543</td>\n",
              "      <td>1986.484889</td>\n",
              "      <td>12769.608460</td>\n",
              "    </tr>\n",
              "    <tr>\n",
              "      <th>std</th>\n",
              "      <td>3.674129e+05</td>\n",
              "      <td>0.930158</td>\n",
              "      <td>0.770244</td>\n",
              "      <td>918.559712</td>\n",
              "      <td>4.142594e+04</td>\n",
              "      <td>0.539998</td>\n",
              "      <td>0.650785</td>\n",
              "      <td>1.175542</td>\n",
              "      <td>828.186477</td>\n",
              "      <td>442.618358</td>\n",
              "      <td>29.371866</td>\n",
              "      <td>53.505719</td>\n",
              "      <td>685.460263</td>\n",
              "      <td>27307.765664</td>\n",
              "    </tr>\n",
              "    <tr>\n",
              "      <th>min</th>\n",
              "      <td>7.500000e+04</td>\n",
              "      <td>0.000000</td>\n",
              "      <td>0.000000</td>\n",
              "      <td>290.000000</td>\n",
              "      <td>5.200000e+02</td>\n",
              "      <td>1.000000</td>\n",
              "      <td>1.000000</td>\n",
              "      <td>1.000000</td>\n",
              "      <td>290.000000</td>\n",
              "      <td>0.000000</td>\n",
              "      <td>1900.000000</td>\n",
              "      <td>98001.000000</td>\n",
              "      <td>399.000000</td>\n",
              "      <td>651.000000</td>\n",
              "    </tr>\n",
              "    <tr>\n",
              "      <th>25%</th>\n",
              "      <td>3.215000e+05</td>\n",
              "      <td>3.000000</td>\n",
              "      <td>1.750000</td>\n",
              "      <td>1423.500000</td>\n",
              "      <td>5.040000e+03</td>\n",
              "      <td>1.000000</td>\n",
              "      <td>3.000000</td>\n",
              "      <td>7.000000</td>\n",
              "      <td>1190.000000</td>\n",
              "      <td>0.000000</td>\n",
              "      <td>1951.000000</td>\n",
              "      <td>98033.000000</td>\n",
              "      <td>1490.000000</td>\n",
              "      <td>5100.000000</td>\n",
              "    </tr>\n",
              "    <tr>\n",
              "      <th>50%</th>\n",
              "      <td>4.500000e+05</td>\n",
              "      <td>3.000000</td>\n",
              "      <td>2.250000</td>\n",
              "      <td>1910.000000</td>\n",
              "      <td>7.620000e+03</td>\n",
              "      <td>1.500000</td>\n",
              "      <td>3.000000</td>\n",
              "      <td>7.000000</td>\n",
              "      <td>1560.000000</td>\n",
              "      <td>0.000000</td>\n",
              "      <td>1975.000000</td>\n",
              "      <td>98065.000000</td>\n",
              "      <td>1840.000000</td>\n",
              "      <td>7620.000000</td>\n",
              "    </tr>\n",
              "    <tr>\n",
              "      <th>75%</th>\n",
              "      <td>6.450000e+05</td>\n",
              "      <td>4.000000</td>\n",
              "      <td>2.500000</td>\n",
              "      <td>2550.000000</td>\n",
              "      <td>1.069200e+04</td>\n",
              "      <td>2.000000</td>\n",
              "      <td>4.000000</td>\n",
              "      <td>8.000000</td>\n",
              "      <td>2210.000000</td>\n",
              "      <td>560.000000</td>\n",
              "      <td>1997.000000</td>\n",
              "      <td>98118.000000</td>\n",
              "      <td>2360.000000</td>\n",
              "      <td>10083.000000</td>\n",
              "    </tr>\n",
              "    <tr>\n",
              "      <th>max</th>\n",
              "      <td>7.700000e+06</td>\n",
              "      <td>33.000000</td>\n",
              "      <td>8.000000</td>\n",
              "      <td>13540.000000</td>\n",
              "      <td>1.651359e+06</td>\n",
              "      <td>3.500000</td>\n",
              "      <td>5.000000</td>\n",
              "      <td>13.000000</td>\n",
              "      <td>9410.000000</td>\n",
              "      <td>4820.000000</td>\n",
              "      <td>2015.000000</td>\n",
              "      <td>98199.000000</td>\n",
              "      <td>6210.000000</td>\n",
              "      <td>871200.000000</td>\n",
              "    </tr>\n",
              "  </tbody>\n",
              "</table>\n",
              "</div>"
            ],
            "text/plain": [
              "              price      bedrooms  ...  sqft_living15     sqft_lot15\n",
              "count  2.160700e+04  21607.000000  ...   21607.000000   21607.000000\n",
              "mean   5.401757e+05      3.370852  ...    1986.484889   12769.608460\n",
              "std    3.674129e+05      0.930158  ...     685.460263   27307.765664\n",
              "min    7.500000e+04      0.000000  ...     399.000000     651.000000\n",
              "25%    3.215000e+05      3.000000  ...    1490.000000    5100.000000\n",
              "50%    4.500000e+05      3.000000  ...    1840.000000    7620.000000\n",
              "75%    6.450000e+05      4.000000  ...    2360.000000   10083.000000\n",
              "max    7.700000e+06     33.000000  ...    6210.000000  871200.000000\n",
              "\n",
              "[8 rows x 14 columns]"
            ]
          },
          "metadata": {
            "tags": []
          },
          "execution_count": 16
        }
      ]
    },
    {
      "cell_type": "markdown",
      "metadata": {
        "id": "i6qdC2c5VaOk"
      },
      "source": [
        "#Univariate Analysis"
      ]
    },
    {
      "cell_type": "code",
      "metadata": {
        "colab": {
          "base_uri": "https://localhost:8080/",
          "height": 637
        },
        "id": "yuAbnI4dUt_u",
        "outputId": "a43493db-23b0-4e82-9201-69227b286fa8"
      },
      "source": [
        "#using histograme to check the distribution in the variables\n",
        "hass.hist(bins=40, figsize=(18,12))\n",
        "plt.show()"
      ],
      "execution_count": 17,
      "outputs": [
        {
          "output_type": "display_data",
          "data": {
            "image/png": "[encoded data removed]",
            "text/plain": [
              "<Figure size 1296x864 with 16 Axes>"
            ]
          },
          "metadata": {
            "tags": [],
            "needs_background": "light"
          }
        }
      ]
    },
    {
      "cell_type": "markdown",
      "metadata": {
        "id": "aND9EEiYYz5T"
      },
      "source": [
        "#Bivariate Analysis"
      ]
    },
    {
      "cell_type": "code",
      "metadata": {
        "colab": {
          "base_uri": "https://localhost:8080/",
          "height": 311
        },
        "id": "TGSS1d8dYyuZ",
        "outputId": "208953b6-84b9-4fde-ed69-3f5d589d5523"
      },
      "source": [
        "#creating a scatter plot\n",
        "#scat_plot(hass.price_log, hass.sqft_living)\n",
        "\n",
        "plt.scatter(data=hass,x='price', y='sqft_living')\n",
        "\n",
        "plt.title('PRICE vs SQUARE FT LIVIING')\n",
        "plt.show"
      ],
      "execution_count": 18,
      "outputs": [
        {
          "output_type": "execute_result",
          "data": {
            "text/plain": [
              "<function matplotlib.pyplot.show>"
            ]
          },
          "metadata": {
            "tags": []
          },
          "execution_count": 18
        },
        {
          "output_type": "display_data",
          "data": {
            "image/png": "[encoded data removed]",
            "text/plain": [
              "<Figure size 432x288 with 1 Axes>"
            ]
          },
          "metadata": {
            "tags": [],
            "needs_background": "light"
          }
        }
      ]
    },
    {
      "cell_type": "code",
      "metadata": {
        "colab": {
          "base_uri": "https://localhost:8080/",
          "height": 362
        },
        "id": "aUwrNSplkVcv",
        "outputId": "4a56760d-5007-45cc-f554-b364b6edf68d"
      },
      "source": [
        "#correlation of the different variables using a heatmap\n",
        "sns.heatmap(hass.corr(), xticklabels = hass.corr().columns, yticklabels = hass.corr().columns)\n",
        "plt.title('CORRELATIONS USING HEATMAP')\n",
        "plt.show\n",
        "#price has a high correlation with sqft_living and the bathrooms\n",
        "#price has a low correlation with sqft_lot "
      ],
      "execution_count": 19,
      "outputs": [
        {
          "output_type": "execute_result",
          "data": {
            "text/plain": [
              "<function matplotlib.pyplot.show>"
            ]
          },
          "metadata": {
            "tags": []
          },
          "execution_count": 19
        },
        {
          "output_type": "display_data",
          "data": {
            "image/png": "[encoded data removed]",
            "text/plain": [
              "<Figure size 432x288 with 2 Axes>"
            ]
          },
          "metadata": {
            "tags": [],
            "needs_background": "light"
          }
        }
      ]
    },
    {
      "cell_type": "markdown",
      "metadata": {
        "id": "9MQD4jGSukfi"
      },
      "source": [
        "#REGRESSION ANALYSIS"
      ]
    },
    {
      "cell_type": "markdown",
      "metadata": {
        "id": "lxjHelK0uvnB"
      },
      "source": [
        "##Multiple Linear Regression"
      ]
    },
    {
      "cell_type": "code",
      "metadata": {
        "colab": {
          "base_uri": "https://localhost:8080/",
          "height": 472
        },
        "id": "FzYa_qxaujuJ",
        "outputId": "d5906f49-6e32-4768-eefa-1bdd80e8874b"
      },
      "source": [
        "# Displaying the correlations between the independent variables \n",
        "drop=hass.drop('price', 1)\n",
        "correlations = drop.corr()\n",
        "correlations\n",
        "#the table below indicates how independent variables are related"
      ],
      "execution_count": 20,
      "outputs": [
        {
          "output_type": "execute_result",
          "data": {
            "text/html": [
              "<div>\n",
              "<style scoped>\n",
              "    .dataframe tbody tr th:only-of-type {\n",
              "        vertical-align: middle;\n",
              "    }\n",
              "\n",
              "    .dataframe tbody tr th {\n",
              "        vertical-align: top;\n",
              "    }\n",
              "\n",
              "    .dataframe thead th {\n",
              "        text-align: right;\n",
              "    }\n",
              "</style>\n",
              "<table border=\"1\" class=\"dataframe\">\n",
              "  <thead>\n",
              "    <tr style=\"text-align: right;\">\n",
              "      <th></th>\n",
              "      <th>bedrooms</th>\n",
              "      <th>bathrooms</th>\n",
              "      <th>sqft_living</th>\n",
              "      <th>sqft_lot</th>\n",
              "      <th>floors</th>\n",
              "      <th>condition</th>\n",
              "      <th>grade</th>\n",
              "      <th>sqft_above</th>\n",
              "      <th>sqft_basement</th>\n",
              "      <th>yr_built</th>\n",
              "      <th>zipcode</th>\n",
              "      <th>sqft_living15</th>\n",
              "      <th>sqft_lot15</th>\n",
              "    </tr>\n",
              "  </thead>\n",
              "  <tbody>\n",
              "    <tr>\n",
              "      <th>bedrooms</th>\n",
              "      <td>1.000000</td>\n",
              "      <td>0.515986</td>\n",
              "      <td>0.576677</td>\n",
              "      <td>0.031695</td>\n",
              "      <td>0.175467</td>\n",
              "      <td>0.028372</td>\n",
              "      <td>0.357039</td>\n",
              "      <td>0.477637</td>\n",
              "      <td>0.303060</td>\n",
              "      <td>0.154373</td>\n",
              "      <td>-0.152773</td>\n",
              "      <td>0.391628</td>\n",
              "      <td>0.029221</td>\n",
              "    </tr>\n",
              "    <tr>\n",
              "      <th>bathrooms</th>\n",
              "      <td>0.515986</td>\n",
              "      <td>1.000000</td>\n",
              "      <td>0.754710</td>\n",
              "      <td>0.087761</td>\n",
              "      <td>0.500685</td>\n",
              "      <td>-0.124897</td>\n",
              "      <td>0.664997</td>\n",
              "      <td>0.685359</td>\n",
              "      <td>0.283858</td>\n",
              "      <td>0.505974</td>\n",
              "      <td>-0.203796</td>\n",
              "      <td>0.568696</td>\n",
              "      <td>0.087207</td>\n",
              "    </tr>\n",
              "    <tr>\n",
              "      <th>sqft_living</th>\n",
              "      <td>0.576677</td>\n",
              "      <td>0.754710</td>\n",
              "      <td>1.000000</td>\n",
              "      <td>0.172835</td>\n",
              "      <td>0.353958</td>\n",
              "      <td>-0.058783</td>\n",
              "      <td>0.762734</td>\n",
              "      <td>0.876604</td>\n",
              "      <td>0.435065</td>\n",
              "      <td>0.318149</td>\n",
              "      <td>-0.199440</td>\n",
              "      <td>0.756419</td>\n",
              "      <td>0.183285</td>\n",
              "    </tr>\n",
              "    <tr>\n",
              "      <th>sqft_lot</th>\n",
              "      <td>0.031695</td>\n",
              "      <td>0.087761</td>\n",
              "      <td>0.172835</td>\n",
              "      <td>1.000000</td>\n",
              "      <td>-0.005142</td>\n",
              "      <td>-0.008976</td>\n",
              "      <td>0.113667</td>\n",
              "      <td>0.183541</td>\n",
              "      <td>0.015257</td>\n",
              "      <td>0.053130</td>\n",
              "      <td>-0.129648</td>\n",
              "      <td>0.144632</td>\n",
              "      <td>0.718555</td>\n",
              "    </tr>\n",
              "    <tr>\n",
              "      <th>floors</th>\n",
              "      <td>0.175467</td>\n",
              "      <td>0.500685</td>\n",
              "      <td>0.353958</td>\n",
              "      <td>-0.005142</td>\n",
              "      <td>1.000000</td>\n",
              "      <td>-0.263789</td>\n",
              "      <td>0.458120</td>\n",
              "      <td>0.523864</td>\n",
              "      <td>-0.245642</td>\n",
              "      <td>0.489375</td>\n",
              "      <td>-0.058930</td>\n",
              "      <td>0.279838</td>\n",
              "      <td>-0.011231</td>\n",
              "    </tr>\n",
              "    <tr>\n",
              "      <th>condition</th>\n",
              "      <td>0.028372</td>\n",
              "      <td>-0.124897</td>\n",
              "      <td>-0.058783</td>\n",
              "      <td>-0.008976</td>\n",
              "      <td>-0.263789</td>\n",
              "      <td>1.000000</td>\n",
              "      <td>-0.144635</td>\n",
              "      <td>-0.158211</td>\n",
              "      <td>0.174037</td>\n",
              "      <td>-0.361278</td>\n",
              "      <td>0.002899</td>\n",
              "      <td>-0.092883</td>\n",
              "      <td>-0.003443</td>\n",
              "    </tr>\n",
              "    <tr>\n",
              "      <th>grade</th>\n",
              "      <td>0.357039</td>\n",
              "      <td>0.664997</td>\n",
              "      <td>0.762734</td>\n",
              "      <td>0.113667</td>\n",
              "      <td>0.458120</td>\n",
              "      <td>-0.144635</td>\n",
              "      <td>1.000000</td>\n",
              "      <td>0.755914</td>\n",
              "      <td>0.168494</td>\n",
              "      <td>0.446969</td>\n",
              "      <td>-0.184728</td>\n",
              "      <td>0.713214</td>\n",
              "      <td>0.119283</td>\n",
              "    </tr>\n",
              "    <tr>\n",
              "      <th>sqft_above</th>\n",
              "      <td>0.477637</td>\n",
              "      <td>0.685359</td>\n",
              "      <td>0.876604</td>\n",
              "      <td>0.183541</td>\n",
              "      <td>0.523864</td>\n",
              "      <td>-0.158211</td>\n",
              "      <td>0.755914</td>\n",
              "      <td>1.000000</td>\n",
              "      <td>-0.051903</td>\n",
              "      <td>0.423946</td>\n",
              "      <td>-0.261135</td>\n",
              "      <td>0.731870</td>\n",
              "      <td>0.194069</td>\n",
              "    </tr>\n",
              "    <tr>\n",
              "      <th>sqft_basement</th>\n",
              "      <td>0.303060</td>\n",
              "      <td>0.283858</td>\n",
              "      <td>0.435065</td>\n",
              "      <td>0.015257</td>\n",
              "      <td>-0.245642</td>\n",
              "      <td>0.174037</td>\n",
              "      <td>0.168494</td>\n",
              "      <td>-0.051903</td>\n",
              "      <td>1.000000</td>\n",
              "      <td>-0.132999</td>\n",
              "      <td>0.074718</td>\n",
              "      <td>0.200379</td>\n",
              "      <td>0.017244</td>\n",
              "    </tr>\n",
              "    <tr>\n",
              "      <th>yr_built</th>\n",
              "      <td>0.154373</td>\n",
              "      <td>0.505974</td>\n",
              "      <td>0.318149</td>\n",
              "      <td>0.053130</td>\n",
              "      <td>0.489375</td>\n",
              "      <td>-0.361278</td>\n",
              "      <td>0.446969</td>\n",
              "      <td>0.423946</td>\n",
              "      <td>-0.132999</td>\n",
              "      <td>1.000000</td>\n",
              "      <td>-0.346746</td>\n",
              "      <td>0.326366</td>\n",
              "      <td>0.071039</td>\n",
              "    </tr>\n",
              "    <tr>\n",
              "      <th>zipcode</th>\n",
              "      <td>-0.152773</td>\n",
              "      <td>-0.203796</td>\n",
              "      <td>-0.199440</td>\n",
              "      <td>-0.129648</td>\n",
              "      <td>-0.058930</td>\n",
              "      <td>0.002899</td>\n",
              "      <td>-0.184728</td>\n",
              "      <td>-0.261135</td>\n",
              "      <td>0.074718</td>\n",
              "      <td>-0.346746</td>\n",
              "      <td>1.000000</td>\n",
              "      <td>-0.279032</td>\n",
              "      <td>-0.147293</td>\n",
              "    </tr>\n",
              "    <tr>\n",
              "      <th>sqft_living15</th>\n",
              "      <td>0.391628</td>\n",
              "      <td>0.568696</td>\n",
              "      <td>0.756419</td>\n",
              "      <td>0.144632</td>\n",
              "      <td>0.279838</td>\n",
              "      <td>-0.092883</td>\n",
              "      <td>0.713214</td>\n",
              "      <td>0.731870</td>\n",
              "      <td>0.200379</td>\n",
              "      <td>0.326366</td>\n",
              "      <td>-0.279032</td>\n",
              "      <td>1.000000</td>\n",
              "      <td>0.183197</td>\n",
              "    </tr>\n",
              "    <tr>\n",
              "      <th>sqft_lot15</th>\n",
              "      <td>0.029221</td>\n",
              "      <td>0.087207</td>\n",
              "      <td>0.183285</td>\n",
              "      <td>0.718555</td>\n",
              "      <td>-0.011231</td>\n",
              "      <td>-0.003443</td>\n",
              "      <td>0.119283</td>\n",
              "      <td>0.194069</td>\n",
              "      <td>0.017244</td>\n",
              "      <td>0.071039</td>\n",
              "      <td>-0.147293</td>\n",
              "      <td>0.183197</td>\n",
              "      <td>1.000000</td>\n",
              "    </tr>\n",
              "  </tbody>\n",
              "</table>\n",
              "</div>"
            ],
            "text/plain": [
              "               bedrooms  bathrooms  ...  sqft_living15  sqft_lot15\n",
              "bedrooms       1.000000   0.515986  ...       0.391628    0.029221\n",
              "bathrooms      0.515986   1.000000  ...       0.568696    0.087207\n",
              "sqft_living    0.576677   0.754710  ...       0.756419    0.183285\n",
              "sqft_lot       0.031695   0.087761  ...       0.144632    0.718555\n",
              "floors         0.175467   0.500685  ...       0.279838   -0.011231\n",
              "condition      0.028372  -0.124897  ...      -0.092883   -0.003443\n",
              "grade          0.357039   0.664997  ...       0.713214    0.119283\n",
              "sqft_above     0.477637   0.685359  ...       0.731870    0.194069\n",
              "sqft_basement  0.303060   0.283858  ...       0.200379    0.017244\n",
              "yr_built       0.154373   0.505974  ...       0.326366    0.071039\n",
              "zipcode       -0.152773  -0.203796  ...      -0.279032   -0.147293\n",
              "sqft_living15  0.391628   0.568696  ...       1.000000    0.183197\n",
              "sqft_lot15     0.029221   0.087207  ...       0.183197    1.000000\n",
              "\n",
              "[13 rows x 13 columns]"
            ]
          },
          "metadata": {
            "tags": []
          },
          "execution_count": 20
        }
      ]
    },
    {
      "cell_type": "code",
      "metadata": {
        "colab": {
          "base_uri": "https://localhost:8080/",
          "height": 472
        },
        "id": "ZiKL2BzD6clL",
        "outputId": "536d5ed7-a132-4140-e73d-c7bc23651f0b"
      },
      "source": [
        "#checking the variance inflation factor\n",
        "vif = pd.DataFrame(np.linalg.inv(correlations.values), index = correlations.index, columns = correlations.columns)\n",
        "vif\n",
        "#VIF will help in checking multicollinearity issues\n",
        "#the vif tends to be inflated to a large amount for a particular variable relationship"
      ],
      "execution_count": 21,
      "outputs": [
        {
          "output_type": "execute_result",
          "data": {
            "text/html": [
              "<div>\n",
              "<style scoped>\n",
              "    .dataframe tbody tr th:only-of-type {\n",
              "        vertical-align: middle;\n",
              "    }\n",
              "\n",
              "    .dataframe tbody tr th {\n",
              "        vertical-align: top;\n",
              "    }\n",
              "\n",
              "    .dataframe thead th {\n",
              "        text-align: right;\n",
              "    }\n",
              "</style>\n",
              "<table border=\"1\" class=\"dataframe\">\n",
              "  <thead>\n",
              "    <tr style=\"text-align: right;\">\n",
              "      <th></th>\n",
              "      <th>bedrooms</th>\n",
              "      <th>bathrooms</th>\n",
              "      <th>sqft_living</th>\n",
              "      <th>sqft_lot</th>\n",
              "      <th>floors</th>\n",
              "      <th>condition</th>\n",
              "      <th>grade</th>\n",
              "      <th>sqft_above</th>\n",
              "      <th>sqft_basement</th>\n",
              "      <th>yr_built</th>\n",
              "      <th>zipcode</th>\n",
              "      <th>sqft_living15</th>\n",
              "      <th>sqft_lot15</th>\n",
              "    </tr>\n",
              "  </thead>\n",
              "  <tbody>\n",
              "    <tr>\n",
              "      <th>bedrooms</th>\n",
              "      <td>1.629056</td>\n",
              "      <td>-0.444265</td>\n",
              "      <td>-1.588259e+00</td>\n",
              "      <td>0.051521</td>\n",
              "      <td>0.061574</td>\n",
              "      <td>-0.058788</td>\n",
              "      <td>0.333414</td>\n",
              "      <td>5.558885e-01</td>\n",
              "      <td>3.110843e-01</td>\n",
              "      <td>0.087718</td>\n",
              "      <td>0.096191</td>\n",
              "      <td>0.057009</td>\n",
              "      <td>0.089229</td>\n",
              "    </tr>\n",
              "    <tr>\n",
              "      <th>bathrooms</th>\n",
              "      <td>-0.444265</td>\n",
              "      <td>3.288547</td>\n",
              "      <td>-9.586553e-01</td>\n",
              "      <td>-0.016906</td>\n",
              "      <td>-0.702002</td>\n",
              "      <td>-0.090114</td>\n",
              "      <td>-0.306754</td>\n",
              "      <td>-4.019955e-01</td>\n",
              "      <td>-6.372097e-01</td>\n",
              "      <td>-0.790177</td>\n",
              "      <td>0.021316</td>\n",
              "      <td>0.108183</td>\n",
              "      <td>0.070141</td>\n",
              "    </tr>\n",
              "    <tr>\n",
              "      <th>sqft_living</th>\n",
              "      <td>-1.586780</td>\n",
              "      <td>-0.957216</td>\n",
              "      <td>2.826486e+13</td>\n",
              "      <td>-0.088367</td>\n",
              "      <td>1.117699</td>\n",
              "      <td>-0.750592</td>\n",
              "      <td>-0.589940</td>\n",
              "      <td>-2.548400e+13</td>\n",
              "      <td>-1.361974e+13</td>\n",
              "      <td>0.391622</td>\n",
              "      <td>-0.531024</td>\n",
              "      <td>-0.702671</td>\n",
              "      <td>0.019259</td>\n",
              "    </tr>\n",
              "    <tr>\n",
              "      <th>sqft_lot</th>\n",
              "      <td>0.051521</td>\n",
              "      <td>-0.016906</td>\n",
              "      <td>-8.504799e-02</td>\n",
              "      <td>2.088324</td>\n",
              "      <td>0.061420</td>\n",
              "      <td>0.024004</td>\n",
              "      <td>-0.019242</td>\n",
              "      <td>-1.512062e-01</td>\n",
              "      <td>2.526469e-03</td>\n",
              "      <td>0.049825</td>\n",
              "      <td>0.055121</td>\n",
              "      <td>0.129473</td>\n",
              "      <td>-1.471769</td>\n",
              "    </tr>\n",
              "    <tr>\n",
              "      <th>floors</th>\n",
              "      <td>0.061574</td>\n",
              "      <td>-0.702002</td>\n",
              "      <td>1.119505e+00</td>\n",
              "      <td>0.061420</td>\n",
              "      <td>1.979542</td>\n",
              "      <td>0.108787</td>\n",
              "      <td>-0.305077</td>\n",
              "      <td>-1.468581e+00</td>\n",
              "      <td>4.620496e-02</td>\n",
              "      <td>-0.370418</td>\n",
              "      <td>-0.264025</td>\n",
              "      <td>0.290351</td>\n",
              "      <td>0.087655</td>\n",
              "    </tr>\n",
              "    <tr>\n",
              "      <th>condition</th>\n",
              "      <td>-0.058788</td>\n",
              "      <td>-0.090114</td>\n",
              "      <td>-7.500614e-01</td>\n",
              "      <td>0.024004</td>\n",
              "      <td>0.108787</td>\n",
              "      <td>1.209231</td>\n",
              "      <td>-0.030301</td>\n",
              "      <td>7.240600e-01</td>\n",
              "      <td>2.652284e-01</td>\n",
              "      <td>0.456551</td>\n",
              "      <td>0.164054</td>\n",
              "      <td>0.059728</td>\n",
              "      <td>-0.025581</td>\n",
              "    </tr>\n",
              "    <tr>\n",
              "      <th>grade</th>\n",
              "      <td>0.333414</td>\n",
              "      <td>-0.306754</td>\n",
              "      <td>-5.927039e-01</td>\n",
              "      <td>-0.019242</td>\n",
              "      <td>-0.305077</td>\n",
              "      <td>-0.030301</td>\n",
              "      <td>3.227978</td>\n",
              "      <td>-9.564159e-01</td>\n",
              "      <td>-2.845578e-01</td>\n",
              "      <td>-0.413729</td>\n",
              "      <td>-0.159949</td>\n",
              "      <td>-0.897449</td>\n",
              "      <td>0.111754</td>\n",
              "    </tr>\n",
              "    <tr>\n",
              "      <th>sqft_above</th>\n",
              "      <td>0.559386</td>\n",
              "      <td>-0.399377</td>\n",
              "      <td>-2.548400e+13</td>\n",
              "      <td>-0.148329</td>\n",
              "      <td>-1.467520</td>\n",
              "      <td>0.724955</td>\n",
              "      <td>-0.959451</td>\n",
              "      <td>2.297674e+13</td>\n",
              "      <td>1.227975e+13</td>\n",
              "      <td>0.043382</td>\n",
              "      <td>0.579100</td>\n",
              "      <td>-0.947492</td>\n",
              "      <td>-0.229186</td>\n",
              "    </tr>\n",
              "    <tr>\n",
              "      <th>sqft_basement</th>\n",
              "      <td>0.311702</td>\n",
              "      <td>-0.637505</td>\n",
              "      <td>-1.361974e+13</td>\n",
              "      <td>0.004166</td>\n",
              "      <td>0.046730</td>\n",
              "      <td>0.265526</td>\n",
              "      <td>-0.285545</td>\n",
              "      <td>1.227975e+13</td>\n",
              "      <td>6.562827e+12</td>\n",
              "      <td>0.153266</td>\n",
              "      <td>0.071185</td>\n",
              "      <td>-0.167013</td>\n",
              "      <td>-0.056988</td>\n",
              "    </tr>\n",
              "    <tr>\n",
              "      <th>yr_built</th>\n",
              "      <td>0.087718</td>\n",
              "      <td>-0.790177</td>\n",
              "      <td>3.920544e-01</td>\n",
              "      <td>0.049825</td>\n",
              "      <td>-0.370418</td>\n",
              "      <td>0.456551</td>\n",
              "      <td>-0.413729</td>\n",
              "      <td>4.299247e-02</td>\n",
              "      <td>1.530583e-01</td>\n",
              "      <td>1.974076</td>\n",
              "      <td>0.511806</td>\n",
              "      <td>0.001751</td>\n",
              "      <td>-0.070707</td>\n",
              "    </tr>\n",
              "    <tr>\n",
              "      <th>zipcode</th>\n",
              "      <td>0.096191</td>\n",
              "      <td>0.021316</td>\n",
              "      <td>-5.320441e-01</td>\n",
              "      <td>0.055121</td>\n",
              "      <td>-0.264025</td>\n",
              "      <td>0.164054</td>\n",
              "      <td>-0.159949</td>\n",
              "      <td>5.800189e-01</td>\n",
              "      <td>7.167614e-02</td>\n",
              "      <td>0.511806</td>\n",
              "      <td>1.287521</td>\n",
              "      <td>0.290968</td>\n",
              "      <td>0.056097</td>\n",
              "    </tr>\n",
              "    <tr>\n",
              "      <th>sqft_living15</th>\n",
              "      <td>0.057009</td>\n",
              "      <td>0.108183</td>\n",
              "      <td>-6.958303e-01</td>\n",
              "      <td>0.129473</td>\n",
              "      <td>0.290351</td>\n",
              "      <td>0.059728</td>\n",
              "      <td>-0.897449</td>\n",
              "      <td>-9.536598e-01</td>\n",
              "      <td>-1.703095e-01</td>\n",
              "      <td>0.001751</td>\n",
              "      <td>0.290968</td>\n",
              "      <td>2.828970</td>\n",
              "      <td>-0.153593</td>\n",
              "    </tr>\n",
              "    <tr>\n",
              "      <th>sqft_lot15</th>\n",
              "      <td>0.089229</td>\n",
              "      <td>0.070141</td>\n",
              "      <td>1.622388e-02</td>\n",
              "      <td>-1.471769</td>\n",
              "      <td>0.087655</td>\n",
              "      <td>-0.025581</td>\n",
              "      <td>0.111754</td>\n",
              "      <td>-2.264493e-01</td>\n",
              "      <td>-5.552600e-02</td>\n",
              "      <td>-0.070707</td>\n",
              "      <td>0.056097</td>\n",
              "      <td>-0.153593</td>\n",
              "      <td>2.119744</td>\n",
              "    </tr>\n",
              "  </tbody>\n",
              "</table>\n",
              "</div>"
            ],
            "text/plain": [
              "               bedrooms  bathrooms  ...  sqft_living15  sqft_lot15\n",
              "bedrooms       1.629056  -0.444265  ...       0.057009    0.089229\n",
              "bathrooms     -0.444265   3.288547  ...       0.108183    0.070141\n",
              "sqft_living   -1.586780  -0.957216  ...      -0.702671    0.019259\n",
              "sqft_lot       0.051521  -0.016906  ...       0.129473   -1.471769\n",
              "floors         0.061574  -0.702002  ...       0.290351    0.087655\n",
              "condition     -0.058788  -0.090114  ...       0.059728   -0.025581\n",
              "grade          0.333414  -0.306754  ...      -0.897449    0.111754\n",
              "sqft_above     0.559386  -0.399377  ...      -0.947492   -0.229186\n",
              "sqft_basement  0.311702  -0.637505  ...      -0.167013   -0.056988\n",
              "yr_built       0.087718  -0.790177  ...       0.001751   -0.070707\n",
              "zipcode        0.096191   0.021316  ...       0.290968    0.056097\n",
              "sqft_living15  0.057009   0.108183  ...       2.828970   -0.153593\n",
              "sqft_lot15     0.089229   0.070141  ...      -0.153593    2.119744\n",
              "\n",
              "[13 rows x 13 columns]"
            ]
          },
          "metadata": {
            "tags": []
          },
          "execution_count": 21
        }
      ]
    },
    {
      "cell_type": "markdown",
      "metadata": {
        "id": "hJeWr10rB_d5"
      },
      "source": [
        "From the above table the vif of condition variable and sqft_above variable is highly inflated. i will exclude them from my model to observe the accuracy"
      ]
    },
    {
      "cell_type": "code",
      "metadata": {
        "colab": {
          "base_uri": "https://localhost:8080/"
        },
        "id": "Ps0zs9-GBkYc",
        "outputId": "230831ff-f03b-48c3-8b55-3f56ad4800f0"
      },
      "source": [
        "\n",
        "hass.columns"
      ],
      "execution_count": 22,
      "outputs": [
        {
          "output_type": "execute_result",
          "data": {
            "text/plain": [
              "Index(['price', 'bedrooms', 'bathrooms', 'sqft_living', 'sqft_lot', 'floors',\n",
              "       'condition', 'grade', 'sqft_above', 'sqft_basement', 'yr_built',\n",
              "       'zipcode', 'sqft_living15', 'sqft_lot15'],\n",
              "      dtype='object')"
            ]
          },
          "metadata": {
            "tags": []
          },
          "execution_count": 22
        }
      ]
    },
    {
      "cell_type": "code",
      "metadata": {
        "id": "H-CWPTnrCw8W"
      },
      "source": [
        "#splitting our data \n",
        "X=hass[['bedrooms', 'bathrooms', 'sqft_living', 'sqft_lot', 'floors',\n",
        "        'grade',  'sqft_basement', 'yr_built',\n",
        "       'zipcode', 'sqft_living15', 'sqft_lot15']]\n",
        "y=hass['price']     \n"
      ],
      "execution_count": 23,
      "outputs": []
    },
    {
      "cell_type": "code",
      "metadata": {
        "colab": {
          "base_uri": "https://localhost:8080/"
        },
        "id": "k_4kWJVbD1RI",
        "outputId": "efa1928a-db2c-4bad-a4b7-a9ea7355658e"
      },
      "source": [
        "\n",
        "# Dividing our data into training and test sets\n",
        "# ---\n",
        "\n",
        "X_train, X_test, y_train, y_test = train_test_split(X, y, test_size=0.2, random_state=0)\n",
        "\n",
        "# Fit our model\n",
        "\n",
        "lr = LinearRegression()\n",
        "lr.fit(X_train, y_train)\n",
        "\n"
      ],
      "execution_count": 24,
      "outputs": [
        {
          "output_type": "execute_result",
          "data": {
            "text/plain": [
              "LinearRegression(copy_X=True, fit_intercept=True, n_jobs=None, normalize=False)"
            ]
          },
          "metadata": {
            "tags": []
          },
          "execution_count": 24
        }
      ]
    },
    {
      "cell_type": "code",
      "metadata": {
        "id": "BO_7J1pJJZKh"
      },
      "source": [
        "#making predictions\n",
        "y_predict = lr.predict(X_test)"
      ],
      "execution_count": 25,
      "outputs": []
    },
    {
      "cell_type": "code",
      "metadata": {
        "colab": {
          "base_uri": "https://localhost:8080/"
        },
        "id": "nxpdB3hdJp8g",
        "outputId": "5a690939-9d69-47b9-bf6a-7b35ffeb3b86"
      },
      "source": [
        "\n",
        "from sklearn import metrics\n",
        "print('Mean Absolute Error:', metrics.mean_absolute_error(y_test, y_predict))\n",
        "print('Mean Squared Error:', metrics.mean_squared_error(y_test, y_predict))\n",
        "print('Root Mean Squared Error:', np.sqrt(metrics.mean_squared_error(y_test, y_predict)))"
      ],
      "execution_count": 28,
      "outputs": [
        {
          "output_type": "stream",
          "text": [
            "Mean Absolute Error: 142323.23218428966\n",
            "Mean Squared Error: 47308950956.64296\n",
            "Root Mean Squared Error: 217506.2090071062\n"
          ],
          "name": "stdout"
        }
      ]
    },
    {
      "cell_type": "code",
      "metadata": {
        "colab": {
          "base_uri": "https://localhost:8080/"
        },
        "id": "dFQKwvuqKEnC",
        "outputId": "89574a12-6499-410d-aa90-c3cbf06b5753"
      },
      "source": [
        "# Test and Training Scores\n",
        "score = lr.score(X_train, y_train)\n",
        "score2 = lr.score(X_test, y_test)\n",
        "\n",
        "print('Training set accuracy: ', '%.2f'%(score))\n",
        "print('Test set accuracy: ', '%.2f'%(score2))"
      ],
      "execution_count": 29,
      "outputs": [
        {
          "output_type": "stream",
          "text": [
            "Training set accuracy:  0.62\n",
            "Test set accuracy:  0.60\n"
          ],
          "name": "stdout"
        }
      ]
    },
    {
      "cell_type": "code",
      "metadata": {
        "id": "yeWBQHPgLyZ1"
      },
      "source": [
        "#creating residual plot\n",
        "residuals = np.subtract(y_predict, y_test)"
      ],
      "execution_count": 30,
      "outputs": []
    },
    {
      "cell_type": "code",
      "metadata": {
        "colab": {
          "base_uri": "https://localhost:8080/",
          "height": 888
        },
        "id": "T13aUZM6OfzV",
        "outputId": "0ac5adfd-17fe-4f44-e624-7c4a595af53c"
      },
      "source": [
        "#plotting residual plots\n",
        "import matplotlib.pyplot as plt\n",
        "\n",
        "plt.figure(figsize = (15,15))\n",
        "plt.scatter(y_predict, residuals, color='green')\n",
        "plt.ylabel('residual')\n",
        "plt.xlabel('fitted values')\n",
        "plt.axhline(y= residuals.mean(), color='red', linewidth=1)\n",
        "plt.show()\n",
        "#the residuals are spread around zero"
      ],
      "execution_count": 103,
      "outputs": [
        {
          "output_type": "display_data",
          "data": {
            "image/png": "[encoded data removed]",
            "text/plain": [
              "<Figure size 1080x1080 with 1 Axes>"
            ]
          },
          "metadata": {
            "tags": [],
            "needs_background": "light"
          }
        }
      ]
    },
    {
      "cell_type": "code",
      "metadata": {
        "colab": {
          "base_uri": "https://localhost:8080/"
        },
        "id": "4upBt-nmR20_",
        "outputId": "68b9fb96-4e84-4649-f2fc-37221c18f64d"
      },
      "source": [
        "\n",
        "# Performing the barlett's test\n",
        "test_result, p_value = sp.stats.bartlett(y_predict, residuals)\n",
        "\n",
        "# Calculating the critical value of the chi squared distribution, to compare it with the test_result\n",
        "degrees_of_freedom = len(y_predict) - 1\n",
        "probability =  1 - p_value\n",
        "critical_value = sp.stats.chi2.ppf(probability, degrees_of_freedom)\n",
        "\n",
        "# If the test_result is greater than the critical value, then the null hypothesis is\n",
        "# rejected. This means that there are patterns to the variance of the data\n",
        "\n",
        "# Otherwise, if no patterns are identified, null hypothesis is accepted. This means that \n",
        "# the variance is homogeneous across the dataset\n",
        "\n",
        "if (test_result > critical_value):\n",
        "  print(f'The test result of {np.round(test_result,2)} is greater than the critical value of {np.round(critical_value, 2)}')\n",
        "  print('Thefore the variances are unequal, which means that the model should be reassessed')\n",
        "  print('The variances are heterogenous')\n",
        "else:\n",
        "  print(f'The test result of {np.round(test_result,2)} is less than the critical value of {np.round(critical_value, 2)}')\n",
        "  \n",
        "  print('The variances are homogeneous')"
      ],
      "execution_count": 32,
      "outputs": [
        {
          "output_type": "stream",
          "text": [
            "The test result of 325.05 is less than the critical value of inf\n",
            "The variances are homogeneous\n"
          ],
          "name": "stdout"
        }
      ]
    },
    {
      "cell_type": "markdown",
      "metadata": {
        "id": "BN7sE0hFhodz"
      },
      "source": [
        "##Quantile regression"
      ]
    },
    {
      "cell_type": "code",
      "metadata": {
        "id": "vaHaYrg0hm81"
      },
      "source": [
        "from sklearn.preprocessing import StandardScaler\n",
        "from scipy import stats\n",
        "from sklearn.decomposition import PCA\n",
        "import statsmodels.formula.api as sm\n",
        "from statsmodels.regression.quantile_regression import QuantReg\n",
        "\n",
        "# Scale our data to enable PCA\n",
        "sc = StandardScaler()\n",
        "X_train = sc.fit_transform(X_train)\n",
        "X_test = sc.transform(X_test)\n",
        "sc = StandardScaler()\n",
        "y_trainS = sc.fit_transform(y_train.values.reshape(-1,1))\n",
        "y_testS = sc.transform(y_test.values.reshape(-1,1))\n"
      ],
      "execution_count": 39,
      "outputs": []
    },
    {
      "cell_type": "code",
      "metadata": {
        "colab": {
          "base_uri": "https://localhost:8080/"
        },
        "id": "LzxkINF4lRy4",
        "outputId": "9a5e1ed1-0f4f-41b3-f72a-ff8060dca524"
      },
      "source": [
        "print(\"mean = \" + str(np.mean(X_train[:,4])))\n",
        "print(\"std = \" + str(np.std(X_train[:,4])))"
      ],
      "execution_count": 40,
      "outputs": [
        {
          "output_type": "stream",
          "text": [
            "mean = 1.4079310789576762e-16\n",
            "std = 1.0\n"
          ],
          "name": "stdout"
        }
      ]
    },
    {
      "cell_type": "code",
      "metadata": {
        "id": "KPQFNaBilz6f"
      },
      "source": [
        "#using pca for feature reduction\n",
        "#helps in creating less components to go in the model\n",
        "pca = PCA(n_components = 5)\n",
        "principalComponents = pca.fit_transform(X_train)\n",
        "principalComponentsTest = pca.transform(X_test)\n",
        "principalDf = pd.DataFrame(data = principalComponents\n",
        "             , columns = ['PrincComp_1', 'PrincComp_2','PrincComp_3','PrincComp_4','PrincComp_5'])\n",
        "principalDftest = pd.DataFrame(data = principalComponentsTest\n",
        "             , columns = ['PrincComp_1', 'PrincComp_2','PrincComp_3','PrincComp_4','PrincComp_5'])"
      ],
      "execution_count": 51,
      "outputs": []
    },
    {
      "cell_type": "code",
      "metadata": {
        "colab": {
          "base_uri": "https://localhost:8080/"
        },
        "id": "9A8DAXlsl6NK",
        "outputId": "48fa53ea-3326-4c17-d901-cbcb38a05376"
      },
      "source": [
        "print('Variance explained by all components: ' + str(pca.explained_variance_ratio_.sum()))\n",
        "pca.explained_variance_ratio_"
      ],
      "execution_count": 52,
      "outputs": [
        {
          "output_type": "stream",
          "text": [
            "Variance explained by all components: 0.8302461692966443\n"
          ],
          "name": "stdout"
        },
        {
          "output_type": "execute_result",
          "data": {
            "text/plain": [
              "array([0.38247658, 0.15673491, 0.14297311, 0.0868585 , 0.06120308])"
            ]
          },
          "metadata": {
            "tags": []
          },
          "execution_count": 52
        }
      ]
    },
    {
      "cell_type": "code",
      "metadata": {
        "id": "IE1BjEsBmHtK"
      },
      "source": [
        "principalDf['price'] = y_trainS"
      ],
      "execution_count": 53,
      "outputs": []
    },
    {
      "cell_type": "code",
      "metadata": {
        "colab": {
          "base_uri": "https://localhost:8080/"
        },
        "id": "c9g93ZQbmUvA",
        "outputId": "40dcbead-712e-433a-fbdf-4eb522388901"
      },
      "source": [
        "mod = sm.quantreg('price ~ PrincComp_1 + PrincComp_2 + PrincComp_3 + PrincComp_4 + PrincComp_5', principalDf)\n",
        "res = mod.fit(q=.5)\n",
        "print(res.summary())"
      ],
      "execution_count": 54,
      "outputs": [
        {
          "output_type": "stream",
          "text": [
            "                         QuantReg Regression Results                          \n",
            "==============================================================================\n",
            "Dep. Variable:                  price   Pseudo R-squared:               0.3206\n",
            "Model:                       QuantReg   Bandwidth:                     0.07735\n",
            "Method:                 Least Squares   Sparsity:                        1.031\n",
            "Date:                Sat, 29 May 2021   No. Observations:                17285\n",
            "Time:                        19:33:23   Df Residuals:                    17279\n",
            "                                        Df Model:                            5\n",
            "===============================================================================\n",
            "                  coef    std err          t      P>|t|      [0.025      0.975]\n",
            "-------------------------------------------------------------------------------\n",
            "Intercept      -0.0980      0.004    -24.971      0.000      -0.106      -0.090\n",
            "PrincComp_1     0.2321      0.002    121.386      0.000       0.228       0.236\n",
            "PrincComp_2    -0.0182      0.003     -6.089      0.000      -0.024      -0.012\n",
            "PrincComp_3     0.1566      0.003     50.077      0.000       0.151       0.163\n",
            "PrincComp_4     0.1371      0.004     34.171      0.000       0.129       0.145\n",
            "PrincComp_5    -0.2465      0.005    -51.550      0.000      -0.256      -0.237\n",
            "===============================================================================\n"
          ],
          "name": "stdout"
        }
      ]
    },
    {
      "cell_type": "markdown",
      "metadata": {
        "id": "oH0dxg65nyJO"
      },
      "source": [
        "##Ridge Regression"
      ]
    },
    {
      "cell_type": "code",
      "metadata": {
        "id": "IddL3E42n28W"
      },
      "source": [
        "#splitting our data\n",
        "X=hass[['bedrooms', 'bathrooms', 'sqft_living', 'sqft_lot', 'floors',\n",
        "        'grade',  'sqft_basement', 'yr_built',\n",
        "       'zipcode', 'sqft_living15', 'sqft_lot15']]\n",
        "     \n",
        "\n",
        "y = hass['price']\n",
        "\n",
        "X_train, X_test, y_train, y_test = train_test_split(X, y, test_size=0.25, random_state=0)"
      ],
      "execution_count": 56,
      "outputs": []
    },
    {
      "cell_type": "code",
      "metadata": {
        "id": "D_vItIAMq5lz"
      },
      "source": [
        "scaler = StandardScaler()\n",
        "X = scaler.fit_transform(X)"
      ],
      "execution_count": 57,
      "outputs": []
    },
    {
      "cell_type": "code",
      "metadata": {
        "id": "kD47LwTdrHq4"
      },
      "source": [
        "\n",
        "# fibding the most appropriate value for the l2 regularization.\n",
        " \n",
        "ridge = Ridge(normalize=True)\n",
        "search = GridSearchCV(estimator=ridge,param_grid={'alpha':np.logspace(-5,2,8)},scoring='neg_mean_squared_error',n_jobs=1,refit=True,cv=10)"
      ],
      "execution_count": 58,
      "outputs": []
    },
    {
      "cell_type": "code",
      "metadata": {
        "colab": {
          "base_uri": "https://localhost:8080/"
        },
        "id": "XIR5GtOlrjjD",
        "outputId": "1270bc0a-697c-41e1-9c09-28e4b2f2d888"
      },
      "source": [
        "\n",
        "#  fit function to run the model and then use the .best_params\n",
        "\n",
        "# \n",
        "search.fit(X_train,y_train)\n",
        "search.best_params_"
      ],
      "execution_count": 63,
      "outputs": [
        {
          "output_type": "execute_result",
          "data": {
            "text/plain": [
              "{'alpha': 0.001}"
            ]
          },
          "metadata": {
            "tags": []
          },
          "execution_count": 63
        }
      ]
    },
    {
      "cell_type": "code",
      "metadata": {
        "colab": {
          "base_uri": "https://localhost:8080/"
        },
        "id": "JIdajIBIsYO4",
        "outputId": "a8973bb7-bd67-4bbd-eaa5-90d0caafceac"
      },
      "source": [
        "#fitting model with ridge information\n",
        "ridge = Ridge(normalize=True,alpha=0.001)\n",
        "ridge.fit(X_train,y_train)\n",
        "y_pred = ridge.predict(X_test)\n",
        "print('Ridge model Root Mean Squared Error:', np.sqrt(metrics.mean_squared_error(y_test, y_pred)))\n"
      ],
      "execution_count": 61,
      "outputs": [
        {
          "output_type": "stream",
          "text": [
            "Ridge model Root Mean Squared Error: 219621.63035992603\n"
          ],
          "name": "stdout"
        }
      ]
    },
    {
      "cell_type": "code",
      "metadata": {
        "colab": {
          "base_uri": "https://localhost:8080/"
        },
        "id": "ZR4XJbVZst3w",
        "outputId": "a594e485-552d-4937-d7d7-d2f5ecfde2d5"
      },
      "source": [
        "#test set and train set scores\n",
        "print(\"Training set score: {:.2f}\".format(ridge.score(X_train, y_train)))\n",
        "print(\"Test set score: {:.2f}\".format(ridge.score(X_test, y_test)))"
      ],
      "execution_count": 62,
      "outputs": [
        {
          "output_type": "stream",
          "text": [
            "Training set score: 0.62\n",
            "Test set score: 0.61\n"
          ],
          "name": "stdout"
        }
      ]
    },
    {
      "cell_type": "markdown",
      "metadata": {
        "id": "B8_juBgavpEQ"
      },
      "source": [
        "##Lasso Regression"
      ]
    },
    {
      "cell_type": "code",
      "metadata": {
        "id": "d7Uy4qrzvvdF"
      },
      "source": [
        "#splitting our data\n",
        "X=hass[['bedrooms', 'bathrooms', 'sqft_living', 'sqft_lot', 'floors',\n",
        "        'grade',  'sqft_basement', 'yr_built',\n",
        "       'zipcode', 'sqft_living15', 'sqft_lot15']]\n",
        "     \n",
        "\n",
        "y = hass['price']\n",
        "\n",
        "X_train, X_test, y_train, y_test = train_test_split(X, y, test_size=0.25, random_state=0)"
      ],
      "execution_count": 64,
      "outputs": []
    },
    {
      "cell_type": "code",
      "metadata": {
        "id": "DsciWdrowrmF"
      },
      "source": [
        "# Creating lasso object\n",
        "# \n",
        "lasso = linear_model.Lasso() \n",
        "\n",
        "parameters = {'alpha': np.concatenate((np.arange(0.1,2,0.1), np.arange(2, 5, 0.5), np.arange(5, 25, 1)))}\n",
        "\n",
        "lasso = linear_model.Lasso() \n",
        "gridlasso = GridSearchCV(lasso, parameters, scoring ='r2')"
      ],
      "execution_count": 65,
      "outputs": []
    },
    {
      "cell_type": "code",
      "metadata": {
        "colab": {
          "base_uri": "https://localhost:8080/"
        },
        "id": "uM5nIX_ww38Y",
        "outputId": "832cbc51-87c7-4811-a1da-cd430c6be0da"
      },
      "source": [
        "\n",
        "# Fitting models and getting RMSE\n",
        "\n",
        "gridlasso.fit(X_train, y_train) \n",
        "y_pred = gridlasso.predict(X_test)\n",
        "\n",
        "print(\"The RMSE for the lasso model:\", np.sqrt(metrics.mean_squared_error(y_test, y_pred)))\n"
      ],
      "execution_count": 67,
      "outputs": [
        {
          "output_type": "stream",
          "text": [
            "The RMSE for the lasso model: 219650.52860571648\n"
          ],
          "name": "stdout"
        }
      ]
    },
    {
      "cell_type": "markdown",
      "metadata": {
        "id": "j6qXbT-axre2"
      },
      "source": [
        "##Elastic Net Regression"
      ]
    },
    {
      "cell_type": "code",
      "metadata": {
        "id": "gDxujg4oxYKb"
      },
      "source": [
        "#splitting our data\n",
        "X=hass[['bedrooms', 'bathrooms', 'sqft_living', 'sqft_lot', 'floors',\n",
        "        'grade',  'sqft_basement', 'yr_built',\n",
        "       'zipcode', 'sqft_living15', 'sqft_lot15']]\n",
        "     \n",
        "\n",
        "y = hass['price']\n",
        "\n",
        "X_train, X_test, y_train, y_test = train_test_split(X, y, test_size=0.25, random_state=0)"
      ],
      "execution_count": 69,
      "outputs": []
    },
    {
      "cell_type": "code",
      "metadata": {
        "id": "u8LW_MyZyo9J"
      },
      "source": [
        "# Normalize the data and creating our grid.\n",
        "# \n",
        "from sklearn.model_selection import GridSearchCV\n",
        "from sklearn.linear_model import ElasticNet\n",
        "\n",
        "elastic=ElasticNet(normalize=True)\n",
        "search=GridSearchCV(estimator=elastic,param_grid={'alpha':np.logspace(-5,2,8),'l1_ratio':[.2,.4,.6,.8]},scoring='neg_mean_squared_error',n_jobs=1,refit=True,cv=10)"
      ],
      "execution_count": 70,
      "outputs": []
    },
    {
      "cell_type": "code",
      "metadata": {
        "colab": {
          "base_uri": "https://localhost:8080/"
        },
        "id": "6f-pEfo1y3Ao",
        "outputId": "e090208a-3ea1-4f74-d1b3-6fa742d361e1"
      },
      "source": [
        "#fitting the function and  using the best params\n",
        "search.fit(X_train,y_train)\n",
        "search.best_params_"
      ],
      "execution_count": 71,
      "outputs": [
        {
          "output_type": "execute_result",
          "data": {
            "text/plain": [
              "{'alpha': 1e-05, 'l1_ratio': 0.8}"
            ]
          },
          "metadata": {
            "tags": []
          },
          "execution_count": 71
        }
      ]
    },
    {
      "cell_type": "code",
      "metadata": {
        "colab": {
          "base_uri": "https://localhost:8080/"
        },
        "id": "YSDaxA4OzJMD",
        "outputId": "8302cddd-a1ea-4a85-afa1-eb3390d9c8a8"
      },
      "source": [
        "\n",
        "elastic=ElasticNet(normalize=True,alpha=0.00001,l1_ratio=0.8)\n",
        "elastic.fit(X_train, y_train)\n",
        "\n",
        "# Making predictions\n",
        "#\n",
        "y_pred = elastic.predict(X_test)\n",
        "#finding the rmse\n",
        "print(\"The RMSE for the Elastic model:\", np.sqrt(metrics.mean_squared_error(y_test, y_pred)))"
      ],
      "execution_count": 74,
      "outputs": [
        {
          "output_type": "stream",
          "text": [
            "The RMSE for the Elastic model: 219128.17516810988\n"
          ],
          "name": "stdout"
        }
      ]
    },
    {
      "cell_type": "markdown",
      "metadata": {
        "id": "yyvuQxlr3VMd"
      },
      "source": [
        "#Conclusion\n",
        "There is a very slight change in the RMSE value of the various regression models. More analysis should be done to get significant results.The percentage of the test is not satisfactory(62%)\n"
      ]
    }
  ]
}